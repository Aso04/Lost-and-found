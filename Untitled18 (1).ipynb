{
 "cells": [
  {
   "cell_type": "code",
   "execution_count": 1,
   "id": "6e5cdef2-fedb-4be9-88f7-b68ebaea8832",
   "metadata": {},
   "outputs": [
    {
     "name": "stdout",
     "output_type": "stream",
     "text": [
      "\n",
      "🔹 Lost & Found System Menu:\n",
      "1. Report a Found Item\n",
      "2. Search for a Lost Item\n",
      "3. View All Unclaimed Items\n",
      "4. Claim an Item\n",
      "5. Exit\n"
     ]
    },
    {
     "name": "stdin",
     "output_type": "stream",
     "text": [
      "Select an option (1-5):  1\n",
      "Enter a unique item ID:  2\n",
      "Enter item name:  Airpods\n",
      "Enter category (e.g., Electronics, Clothing, Books):  Electronics\n",
      "Enter the location where the item was found:  canteen\n"
     ]
    },
    {
     "name": "stdout",
     "output_type": "stream",
     "text": [
      "✅ Item successfully added!\n",
      "\n",
      "🔹 Lost & Found System Menu:\n",
      "1. Report a Found Item\n",
      "2. Search for a Lost Item\n",
      "3. View All Unclaimed Items\n",
      "4. Claim an Item\n",
      "5. Exit\n"
     ]
    },
    {
     "name": "stdin",
     "output_type": "stream",
     "text": [
      "Select an option (1-5):  1\n",
      "Enter a unique item ID:  3\n",
      "Enter item name:  key\n",
      "Enter category (e.g., Electronics, Clothing, Books):  key\n",
      "Enter the location where the item was found:  room k211\n"
     ]
    },
    {
     "name": "stdout",
     "output_type": "stream",
     "text": [
      "✅ Item successfully added!\n",
      "\n",
      "🔹 Lost & Found System Menu:\n",
      "1. Report a Found Item\n",
      "2. Search for a Lost Item\n",
      "3. View All Unclaimed Items\n",
      "4. Claim an Item\n",
      "5. Exit\n"
     ]
    },
    {
     "name": "stdin",
     "output_type": "stream",
     "text": [
      "Select an option (1-5):  3\n"
     ]
    },
    {
     "name": "stdout",
     "output_type": "stream",
     "text": [
      "📌 Unclaimed items:\n",
      "ID: 1, Name: 1, Category: 1, Location: 1, Date: 2025-02-19\n",
      "ID: 2, Name: Airpods, Category: Electronics, Location: canteen, Date: 2025-02-19\n",
      "ID: 3, Name: key, Category: key, Location: room k211, Date: 2025-02-19\n",
      "\n",
      "🔹 Lost & Found System Menu:\n",
      "1. Report a Found Item\n",
      "2. Search for a Lost Item\n",
      "3. View All Unclaimed Items\n",
      "4. Claim an Item\n",
      "5. Exit\n"
     ]
    },
    {
     "name": "stdin",
     "output_type": "stream",
     "text": [
      "Select an option (1-5):  4\n",
      "Enter the ID of the item you want to claim:  1\n"
     ]
    },
    {
     "name": "stdout",
     "output_type": "stream",
     "text": [
      "🎉 Congratulations! You have claimed your item.\n",
      "\n",
      "🔹 Lost & Found System Menu:\n",
      "1. Report a Found Item\n",
      "2. Search for a Lost Item\n",
      "3. View All Unclaimed Items\n",
      "4. Claim an Item\n",
      "5. Exit\n"
     ]
    },
    {
     "name": "stdin",
     "output_type": "stream",
     "text": [
      "Select an option (1-5):  3\n"
     ]
    },
    {
     "name": "stdout",
     "output_type": "stream",
     "text": [
      "📌 Unclaimed items:\n",
      "ID: 2, Name: Airpods, Category: Electronics, Location: canteen, Date: 2025-02-19\n",
      "ID: 3, Name: key, Category: key, Location: room k211, Date: 2025-02-19\n",
      "\n",
      "🔹 Lost & Found System Menu:\n",
      "1. Report a Found Item\n",
      "2. Search for a Lost Item\n",
      "3. View All Unclaimed Items\n",
      "4. Claim an Item\n",
      "5. Exit\n"
     ]
    },
    {
     "name": "stdin",
     "output_type": "stream",
     "text": [
      "Select an option (1-5):  5\n"
     ]
    },
    {
     "name": "stdout",
     "output_type": "stream",
     "text": [
      "👋 Goodbye!\n"
     ]
    }
   ],
   "source": [
    "import csv\n",
    "import os\n",
    "from datetime import datetime\n",
    "\n",
    "CSV_FILE = \"lost_and_found.csv\"\n",
    "\n",
    "# Check if the file exists, if not, create it\n",
    "if not os.path.exists(CSV_FILE):\n",
    "    with open(CSV_FILE, mode='w', newline='') as file:\n",
    "        writer = csv.writer(file)\n",
    "        writer.writerow([\"ID\", \"Item Name\", \"Category\", \"Location Found\", \"Date Found\", \"Claimed Status\"])\n",
    "\n",
    "def add_item():\n",
    "    \"\"\"Add a found item\"\"\"\n",
    "    item_id = input(\"Enter a unique item ID: \")\n",
    "    item_name = input(\"Enter item name: \")\n",
    "    category = input(\"Enter category (e.g., Electronics, Clothing, Books): \")\n",
    "    location = input(\"Enter the location where the item was found: \")\n",
    "    date_found = datetime.today().strftime('%Y-%m-%d')\n",
    "    claimed_status = \"No\"\n",
    "    \n",
    "    # Write to CSV\n",
    "    with open(CSV_FILE, mode='a', newline='') as file:\n",
    "        writer = csv.writer(file)\n",
    "        writer.writerow([item_id, item_name, category, location, date_found, claimed_status])\n",
    "    print(\"✅ Item successfully added!\")\n",
    "\n",
    "def search_items():\n",
    "    \"\"\"Search for items by category, name, or location\"\"\"\n",
    "    keyword = input(\"Enter a keyword to search: \").lower()\n",
    "    \n",
    "    with open(CSV_FILE, mode='r') as file:\n",
    "        reader = csv.reader(file)\n",
    "        next(reader)  # Skip headers\n",
    "        results = [row for row in reader if keyword in row[1].lower() or keyword in row[2].lower() or keyword in row[3].lower()]\n",
    "    \n",
    "    if results:\n",
    "        print(\"🔍 Found items:\")\n",
    "        for row in results:\n",
    "            print(f\"ID: {row[0]}, Name: {row[1]}, Category: {row[2]}, Location: {row[3]}, Date: {row[4]}, Status: {row[5]}\")\n",
    "    else:\n",
    "        print(\"❌ No matching items found.\")\n",
    "\n",
    "def view_unclaimed():\n",
    "    \"\"\"Show all unclaimed items\"\"\"\n",
    "    with open(CSV_FILE, mode='r') as file:\n",
    "        reader = csv.reader(file)\n",
    "        next(reader)  # Skip headers\n",
    "        unclaimed = [row for row in reader if row[5] == \"No\"]\n",
    "    \n",
    "    if unclaimed:\n",
    "        print(\"📌 Unclaimed items:\")\n",
    "        for row in unclaimed:\n",
    "            print(f\"ID: {row[0]}, Name: {row[1]}, Category: {row[2]}, Location: {row[3]}, Date: {row[4]}\")\n",
    "    else:\n",
    "        print(\"✅ All items have been claimed!\")\n",
    "\n",
    "def claim_item():\n",
    "    \"\"\"Mark an item as claimed\"\"\"\n",
    "    item_id = input(\"Enter the ID of the item you want to claim: \")\n",
    "    updated_rows = []\n",
    "    found = False\n",
    "    \n",
    "    with open(CSV_FILE, mode='r') as file:\n",
    "        reader = csv.reader(file)\n",
    "        header = next(reader)\n",
    "        for row in reader:\n",
    "            if row[0] == item_id and row[5] == \"No\":\n",
    "                row[5] = \"Yes\"\n",
    "                found = True\n",
    "            updated_rows.append(row)\n",
    "    \n",
    "    if found:\n",
    "        with open(CSV_FILE, mode='w', newline='') as file:\n",
    "            writer = csv.writer(file)\n",
    "            writer.writerow(header)\n",
    "            writer.writerows(updated_rows)\n",
    "        print(\"🎉 Congratulations! You have claimed your item.\")\n",
    "    else:\n",
    "        print(\"❌ Item not found or already claimed.\")\n",
    "\n",
    "def main():\n",
    "    \"\"\"Main menu\"\"\"\n",
    "    while True:\n",
    "        print(\"\\n🔹 Lost & Found System Menu:\")\n",
    "        print(\"1. Report a Found Item\")\n",
    "        print(\"2. Search for a Lost Item\")\n",
    "        print(\"3. View All Unclaimed Items\")\n",
    "        print(\"4. Claim an Item\")\n",
    "        print(\"5. Exit\")\n",
    "        \n",
    "        choice = input(\"Select an option (1-5): \")\n",
    "        if choice == \"1\":\n",
    "            add_item()\n",
    "        elif choice == \"2\":\n",
    "            search_items()\n",
    "        elif choice == \"3\":\n",
    "            view_unclaimed()\n",
    "        elif choice == \"4\":\n",
    "            claim_item()\n",
    "        elif choice == \"5\":\n",
    "            print(\"👋 Goodbye!\")\n",
    "            break\n",
    "        else:\n",
    "            print(\"❌ Invalid input. Please try again.\")\n",
    "\n",
    "if __name__ == \"__main__\":\n",
    "    main()\n"
   ]
  }
 ],
 "metadata": {
  "kernelspec": {
   "display_name": "Python 3 (ipykernel)",
   "language": "python",
   "name": "python3"
  },
  "language_info": {
   "codemirror_mode": {
    "name": "ipython",
    "version": 3
   },
   "file_extension": ".py",
   "mimetype": "text/x-python",
   "name": "python",
   "nbconvert_exporter": "python",
   "pygments_lexer": "ipython3",
   "version": "3.12.4"
  }
 },
 "nbformat": 4,
 "nbformat_minor": 5
}
